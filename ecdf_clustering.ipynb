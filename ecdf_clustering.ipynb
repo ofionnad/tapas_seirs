{
 "cells": [
  {
   "attachments": {},
   "cell_type": "markdown",
   "metadata": {},
   "source": [
    "# Clustering Attempt SEIRS"
   ]
  },
  {
   "cell_type": "code",
   "execution_count": 1,
   "metadata": {},
   "outputs": [
    {
     "name": "stderr",
     "output_type": "stream",
     "text": [
      "2023-01-11 09:58:51.099669: I tensorflow/core/platform/cpu_feature_guard.cc:193] This TensorFlow binary is optimized with oneAPI Deep Neural Network Library (oneDNN) to use the following CPU instructions in performance-critical operations:  AVX2 AVX512F AVX512_VNNI FMA\n",
      "To enable them in other operations, rebuild TensorFlow with the appropriate compiler flags.\n",
      "2023-01-11 09:58:51.198748: I tensorflow/core/util/port.cc:104] oneDNN custom operations are on. You may see slightly different numerical results due to floating-point round-off errors from different computation orders. To turn them off, set the environment variable `TF_ENABLE_ONEDNN_OPTS=0`.\n",
      "2023-01-11 09:58:51.201926: W tensorflow/compiler/xla/stream_executor/platform/default/dso_loader.cc:64] Could not load dynamic library 'libcudart.so.11.0'; dlerror: libcudart.so.11.0: cannot open shared object file: No such file or directory; LD_LIBRARY_PATH: /home/dualta/Documents/soft/aips/31DEC22/LNX64/LIBR/INTELCMP\n",
      "2023-01-11 09:58:51.201936: I tensorflow/compiler/xla/stream_executor/cuda/cudart_stub.cc:29] Ignore above cudart dlerror if you do not have a GPU set up on your machine.\n",
      "2023-01-11 09:58:51.649330: W tensorflow/compiler/xla/stream_executor/platform/default/dso_loader.cc:64] Could not load dynamic library 'libnvinfer.so.7'; dlerror: libnvinfer.so.7: cannot open shared object file: No such file or directory; LD_LIBRARY_PATH: /home/dualta/Documents/soft/aips/31DEC22/LNX64/LIBR/INTELCMP\n",
      "2023-01-11 09:58:51.649382: W tensorflow/compiler/xla/stream_executor/platform/default/dso_loader.cc:64] Could not load dynamic library 'libnvinfer_plugin.so.7'; dlerror: libnvinfer_plugin.so.7: cannot open shared object file: No such file or directory; LD_LIBRARY_PATH: /home/dualta/Documents/soft/aips/31DEC22/LNX64/LIBR/INTELCMP\n",
      "2023-01-11 09:58:51.649386: W tensorflow/compiler/tf2tensorrt/utils/py_utils.cc:38] TF-TRT Warning: Cannot dlopen some TensorRT libraries. If you would like to use Nvidia GPU with TensorRT, please make sure the missing libraries mentioned above are installed properly.\n"
     ]
    }
   ],
   "source": [
    "import numpy as np\n",
    "from ot import emd2\n",
    "from sklearn.cluster import KMeans\n",
    "from scipy import stats\n",
    "from scipy import integrate\n",
    "import geopandas as gpd\n",
    "import folium"
   ]
  },
  {
   "cell_type": "code",
   "execution_count": 2,
   "metadata": {},
   "outputs": [],
   "source": [
    "# Get NDVI data for control and treatment zones\n",
    "tzo = np.load('treatment_zone_observed.pkl', allow_pickle=True)\n",
    "czo = np.load('control_zone_observed.pkl', allow_pickle=True)"
   ]
  },
  {
   "cell_type": "code",
   "execution_count": 21,
   "metadata": {},
   "outputs": [],
   "source": [
    "# Irrigation shapefiles for the region\n",
    "shp = gpd.read_file('/home/dualta/Documents/tapas/seirs_data/shapefiles/irrigation_shapefile_africarice/SRV_irr_v10/SRV_irr_v10.shp')\n",
    "shp = shp[shp['Country_1'] == 'SN']"
   ]
  },
  {
   "cell_type": "code",
   "execution_count": 4,
   "metadata": {},
   "outputs": [],
   "source": [
    "# Turn NDVI location data into the correct CRS projection\n",
    "from fiona.crs import from_epsg \n",
    "from shapely import Point\n",
    "\n",
    "tzo['geometry'].crs = \"EPSG:4326\"\n",
    "czo['geometry'].crs = \"EPSG:4326\"\n",
    "\n",
    "tzo = tzo.to_crs(crs=shp.crs)\n",
    "czo = czo.to_crs(crs=shp.crs)"
   ]
  },
  {
   "cell_type": "code",
   "execution_count": 57,
   "metadata": {},
   "outputs": [
    {
     "name": "stderr",
     "output_type": "stream",
     "text": [
      "/home/dualta/.local/lib/python3.10/site-packages/IPython/core/interactiveshell.py:3382: FutureWarning: The `op` parameter is deprecated and will be removed in a future release. Please use the `predicate` parameter instead.\n",
      "  if await self.run_code(code, result, async_=asy):\n"
     ]
    }
   ],
   "source": [
    "matches = gpd.sjoin(czo, shp, how='left', op='within')"
   ]
  },
  {
   "cell_type": "code",
   "execution_count": 88,
   "metadata": {},
   "outputs": [],
   "source": [
    "polygon_matches = shp[shp.index.isin(list(matches['index_right'].dropna().unique().astype(int)))]"
   ]
  },
  {
   "cell_type": "code",
   "execution_count": null,
   "metadata": {},
   "outputs": [],
   "source": []
  },
  {
   "cell_type": "markdown",
   "metadata": {},
   "source": []
  }
 ],
 "metadata": {
  "kernelspec": {
   "display_name": "tapas",
   "language": "python",
   "name": "python3"
  },
  "language_info": {
   "codemirror_mode": {
    "name": "ipython",
    "version": 3
   },
   "file_extension": ".py",
   "mimetype": "text/x-python",
   "name": "python",
   "nbconvert_exporter": "python",
   "pygments_lexer": "ipython3",
   "version": "3.10.8"
  },
  "orig_nbformat": 4,
  "vscode": {
   "interpreter": {
    "hash": "de813a5fd99f3a3a1d006352de0733e409408553f99b4a2c4a0cab74c81c17e6"
   }
  }
 },
 "nbformat": 4,
 "nbformat_minor": 2
}
