import geopandas as gpd
import folium

shp = gpd.read_file('shapefiles/irrigation_shapefile_africarice/SRV_irr_v10.shp')

print(shp.head())